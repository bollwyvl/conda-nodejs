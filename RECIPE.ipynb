{
 "cells": [
  {
   "cell_type": "markdown",
   "metadata": {},
   "source": [
    "# Conda Meta recipe for `node` Stable, `npm` latest"
   ]
  },
  {
   "cell_type": "code",
   "execution_count": 4,
   "metadata": {
    "collapsed": false
   },
   "outputs": [],
   "source": [
    "import os\n",
    "from hashlib import sha256\n",
    "from requests import get\n",
    "from urllib.parse import urljoin as join\n",
    "import re\n",
    "import yaml\n",
    "import jinja2\n",
    "from PIL import Image"
   ]
  },
  {
   "cell_type": "code",
   "execution_count": 1,
   "metadata": {
    "collapsed": true
   },
   "outputs": [],
   "source": [
    "DIST = \"https://nodejs.org/dist\"\n",
    "PLATFORMS = [\n",
    "    [\"linux\", \"64\", \"linux64\"],\n",
    "    [\"linux\", \"86\", \"linux32\"],\n",
    "    [\"darwin\", \"64\", \"osx\"]\n",
    "]"
   ]
  },
  {
   "cell_type": "code",
   "execution_count": 8,
   "metadata": {
    "collapsed": false
   },
   "outputs": [],
   "source": [
    "all_dists = get(DIST).content.decode()"
   ]
  },
  {
   "cell_type": "code",
   "execution_count": 23,
   "metadata": {
    "collapsed": false
   },
   "outputs": [
    {
     "data": {
      "text/plain": [
       "('v4.2.6', '4.2.6')"
      ]
     },
     "execution_count": 23,
     "metadata": {},
     "output_type": "execute_result"
    }
   ],
   "source": [
    "STABLE_V = sorted(re.findall(r\"v4\\.\\d+\\.\\d+\", all_dists))[-1]\n",
    "STABLE = STABLE_V[1:]\n",
    "STABLE_V, STABLE"
   ]
  },
  {
   "cell_type": "code",
   "execution_count": 25,
   "metadata": {
    "collapsed": false
   },
   "outputs": [],
   "source": [
    "shas_txt = get(\"/\".join([DIST, STABLE_V, \"SHASUMS256.txt\"])).content.decode().strip()"
   ]
  },
  {
   "cell_type": "code",
   "execution_count": 27,
   "metadata": {
    "collapsed": false
   },
   "outputs": [
    {
     "data": {
      "text/plain": [
       "27"
      ]
     },
     "execution_count": 27,
     "metadata": {},
     "output_type": "execute_result"
    }
   ],
   "source": [
    "SHAS = dict([list(reversed(it.split(r\"  \"))) for it in shas_txt.split(\"\\n\")])\n",
    "len(SHAS)"
   ]
  },
  {
   "cell_type": "code",
   "execution_count": null,
   "metadata": {
    "collapsed": true
   },
   "outputs": [],
   "source": [
    "from glob import glob\n",
    " \n",
    "jpgfiles = glob('*.jpg')\n",
    "for u in jpgfiles:\n",
    "    out = u.replace('jpg','eps')\n",
    "    print \"Converting %s to %s\" % (u, out)\n",
    "    img=Image.read(u)\n",
    "    img.thumbnails((800,800)) # Changing the size\n",
    "    img.save(out)"
   ]
  },
  {
   "cell_type": "code",
   "execution_count": 2,
   "metadata": {
    "collapsed": true
   },
   "outputs": [],
   "source": [
    "TMPL = \"\"\"\n",
    "{% macro fname(platform, arch) %}node-{{ STABLE_V }}-{{ platform }}-x{{ arch }}.tar.gz{% endmacro %}\n",
    "package:\n",
    "  name: nodejs\n",
    "  version: {{ STABLE }}\n",
    "\n",
    "build:\n",
    "  number: 0\n",
    "\n",
    "about:\n",
    "  home: https://nodejs.org\n",
    "  license: MIT\n",
    "\n",
    "source:\n",
    "  {% for platform, arch, conda_platform in PLATFORMS %}\n",
    "  fn: node-v{{ STABLE }}-{{ platform }}-x{{ arch }}.tar.gz # [linux64]\n",
    "  url: {{ DIST }}/{{ STABLE_V }}/{{ fname(platform, arch) }} # [{{ conda_platform }}]\n",
    "  sha256: {{ SHAS[fname(platform, arch)] }} # [{{ conda_platform }}]\n",
    "  {% endfor %}\n",
    "\n",
    "requirements:\n",
    "  build:\n",
    "    - python # [win]\n",
    "\n",
    "test:\n",
    "  commands:\n",
    "    - node --version\n",
    "    - npm --version\n",
    "    - npm config get prefix -g\n",
    "    - npm install babel babel-core babel-preset-es2015 casperjs gulp istanbul jupyter-js-services karma less phantomjs\n",
    "\"\"\""
   ]
  },
  {
   "cell_type": "code",
   "execution_count": 59,
   "metadata": {
    "collapsed": false,
    "scrolled": true
   },
   "outputs": [],
   "source": [
    "with open(os.path.join(\"conda.recipe\", \"meta.yaml\"), \"w+\") as meta:\n",
    "    meta.write(jinja2.Template(TMPL).render(**globals()))"
   ]
  }
 ],
 "metadata": {
  "kernelspec": {
   "display_name": "Python 3",
   "language": "python",
   "name": "python3"
  },
  "language_info": {
   "codemirror_mode": {
    "name": "ipython",
    "version": 3
   },
   "file_extension": ".py",
   "mimetype": "text/x-python",
   "name": "python",
   "nbconvert_exporter": "python",
   "pygments_lexer": "ipython3",
   "version": "3.5.1"
  }
 },
 "nbformat": 4,
 "nbformat_minor": 0
}
